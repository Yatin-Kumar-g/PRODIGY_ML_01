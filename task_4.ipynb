{
 "cells": [
  {
   "cell_type": "markdown",
   "metadata": {},
   "source": [
    "# Hand Gesture Recognition (No TensorFlow, No OpenCV)\n",
    "Using PIL + scikit-learn"
   ]
  },
  {
   "cell_type": "code",
   "execution_count": 1,
   "metadata": {},
   "outputs": [],
   "source": [
    "import os\n",
    "import numpy as np\n",
    "from PIL import Image\n",
    "from sklearn.model_selection import train_test_split\n",
    "from sklearn.preprocessing import LabelEncoder\n",
    "from sklearn.svm import SVC\n",
    "from sklearn.metrics import classification_report, accuracy_score\n",
    "import matplotlib.pyplot as plt"
   ]
  },
  {
   "cell_type": "code",
   "execution_count": 2,
   "metadata": {},
   "outputs": [
    {
     "name": "stdout",
     "output_type": "stream",
     "text": [
      "✅ Loaded 1000 images across 10 classes.\n"
     ]
    }
   ],
   "source": [
    "import os\n",
    "import numpy as np\n",
    "from PIL import Image\n",
    "\n",
    "DATASET_PATH = r'C:\\Users\\me\\Downloads\\archive1\\leapGestRecog'  # ← Change this\n",
    "IMG_SIZE = 32  # Smaller image size\n",
    "MAX_IMAGES_PER_CLASS = 100  # Limit to speed up training\n",
    "\n",
    "data, labels = [], []\n",
    "\n",
    "for label in sorted(os.listdir(DATASET_PATH)):\n",
    "    label_path = os.path.join(DATASET_PATH, label)\n",
    "    if not os.path.isdir(label_path):\n",
    "        continue\n",
    "\n",
    "    image_count = 0\n",
    "    for person in os.listdir(label_path):\n",
    "        person_path = os.path.join(label_path, person)\n",
    "        for img_name in os.listdir(person_path):\n",
    "            if not img_name.endswith((\".png\", \".jpg\")):\n",
    "                continue\n",
    "\n",
    "            img_path = os.path.join(person_path, img_name)\n",
    "            try:\n",
    "                img = Image.open(img_path).convert('L').resize((IMG_SIZE, IMG_SIZE))\n",
    "                data.append(np.array(img).flatten())\n",
    "                labels.append(label)\n",
    "                image_count += 1\n",
    "                if image_count >= MAX_IMAGES_PER_CLASS:\n",
    "                    break\n",
    "            except:\n",
    "                continue\n",
    "        if image_count >= MAX_IMAGES_PER_CLASS:\n",
    "            break\n",
    "\n",
    "X = np.array(data) / 255.0\n",
    "y = np.array(labels)\n",
    "\n",
    "print(f\"✅ Loaded {len(X)} images across {len(set(y))} classes.\")\n"
   ]
  },
  {
   "cell_type": "code",
   "execution_count": 3,
   "metadata": {},
   "outputs": [],
   "source": [
    "from sklearn.preprocessing import LabelEncoder\n",
    "from sklearn.model_selection import train_test_split\n",
    "\n",
    "le = LabelEncoder()\n",
    "y_encoded = le.fit_transform(y)\n",
    "\n",
    "X_train, X_test, y_train, y_test = train_test_split(\n",
    "    X, y_encoded, test_size=0.2, random_state=42\n",
    ")\n"
   ]
  },
  {
   "cell_type": "code",
   "execution_count": 4,
   "metadata": {},
   "outputs": [
    {
     "name": "stdout",
     "output_type": "stream",
     "text": [
      "Accuracy: 100.00%\n",
      "              precision    recall  f1-score   support\n",
      "\n",
      "          00       1.00      1.00      1.00        20\n",
      "          01       1.00      1.00      1.00        13\n",
      "          02       1.00      1.00      1.00        27\n",
      "          03       1.00      1.00      1.00        21\n",
      "          04       1.00      1.00      1.00        15\n",
      "          05       1.00      1.00      1.00        22\n",
      "          06       1.00      1.00      1.00        25\n",
      "          07       1.00      1.00      1.00        13\n",
      "          08       1.00      1.00      1.00        23\n",
      "          09       1.00      1.00      1.00        21\n",
      "\n",
      "    accuracy                           1.00       200\n",
      "   macro avg       1.00      1.00      1.00       200\n",
      "weighted avg       1.00      1.00      1.00       200\n",
      "\n"
     ]
    }
   ],
   "source": [
    "# Train SVM Classifier\n",
    "model = SVC(kernel='linear')\n",
    "model.fit(X_train, y_train)\n",
    "predictions = model.predict(X_test)\n",
    "print(\"Accuracy: {:.2f}%\".format(accuracy_score(y_test, predictions)*100))\n",
    "print(classification_report(y_test, predictions, target_names=le.classes_))"
   ]
  }
 ],
 "metadata": {
  "kernelspec": {
   "display_name": "Python 3 (ipykernel)",
   "language": "python",
   "name": "python3"
  },
  "language_info": {
   "codemirror_mode": {
    "name": "ipython",
    "version": 3
   },
   "file_extension": ".py",
   "mimetype": "text/x-python",
   "name": "python",
   "nbconvert_exporter": "python",
   "pygments_lexer": "ipython3",
   "version": "3.10.18"
  }
 },
 "nbformat": 4,
 "nbformat_minor": 4
}
