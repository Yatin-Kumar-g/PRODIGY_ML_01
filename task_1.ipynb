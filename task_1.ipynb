{
 "cells": [
  {
   "cell_type": "code",
   "execution_count": null,
   "id": "e6137103-94af-4a6b-acbe-5727bb026e6f",
   "metadata": {},
   "outputs": [],
   "source": [
    "import pandas as pd\n",
    "import numpy as np\n",
    "import matplotlib.pyplot as plt\n",
    "import seaborn as sns\n",
    "from sklearn.model_selection import train_test_split\n",
    "from sklearn.linear_model import LinearRegression\n",
    "from sklearn.metrics import mean_squared_error, r2_score\n"
   ]
  },
  {
   "cell_type": "code",
   "execution_count": null,
   "id": "57148f33-495d-4bdf-ab3a-fb40a590107c",
   "metadata": {},
   "outputs": [],
   "source": [
    "df = pd.read_csv(\"train.csv\")\n"
   ]
  },
  {
   "cell_type": "code",
   "execution_count": null,
   "id": "d111d9db-e82b-4824-95e2-55d19a16ca00",
   "metadata": {},
   "outputs": [],
   "source": [
    "df.head()\n"
   ]
  },
  {
   "cell_type": "code",
   "execution_count": null,
   "id": "e61711cb-f641-40cb-b796-afb871e2c3c9",
   "metadata": {},
   "outputs": [],
   "source": [
    "df.isnull().sum()"
   ]
  },
  {
   "cell_type": "code",
   "execution_count": null,
   "id": "58b111df-201d-47e7-9f68-f15a614e9ca2",
   "metadata": {},
   "outputs": [],
   "source": [
    "data = df[['GrLivArea', 'BedroomAbvGr', 'FullBath', 'SalePrice']]\n",
    "data = data.dropna()\n"
   ]
  },
  {
   "cell_type": "code",
   "execution_count": null,
   "id": "03270a18-13d3-4441-92b5-79e39f00b5e9",
   "metadata": {},
   "outputs": [],
   "source": [
    "X = data[['GrLivArea', 'BedroomAbvGr', 'FullBath']]\n",
    "y = data['SalePrice']\n"
   ]
  },
  {
   "cell_type": "code",
   "execution_count": null,
   "id": "18419820-1e49-477b-bffd-7ad34cd4731a",
   "metadata": {},
   "outputs": [],
   "source": [
    "X_train, X_test, y_train, y_test = train_test_split(X, y, test_size=0.2, random_state=42)\n"
   ]
  },
  {
   "cell_type": "code",
   "execution_count": null,
   "id": "cded5e1b-616b-42a7-976a-7439e7878e7a",
   "metadata": {},
   "outputs": [],
   "source": [
    "model = LinearRegression()\n",
    "model.fit(X_train, y_train)\n"
   ]
  },
  {
   "cell_type": "code",
   "execution_count": null,
   "id": "9d00b55f-b81a-4b0a-a883-f37033ac4736",
   "metadata": {},
   "outputs": [],
   "source": [
    "y_pred = model.predict(X_test)\n",
    "print(\"RMSE:\", np.sqrt(mean_squared_error(y_test, y_pred)))\n",
    "print(\"R^2 Score:\", r2_score(y_test, y_pred))\n"
   ]
  },
  {
   "cell_type": "code",
   "execution_count": null,
   "id": "bfb56d83-2cba-4efe-92e4-aeb7e6ff3e53",
   "metadata": {},
   "outputs": [],
   "source": [
    "plt.scatter(y_test, y_pred)\n",
    "plt.xlabel(\"Actual Prices\")\n",
    "plt.ylabel(\"Predicted Prices\")\n",
    "plt.title(\"Actual vs Predicted\")\n",
    "plt.show()\n"
   ]
  },
  {
   "cell_type": "code",
   "execution_count": null,
   "id": "1f73c70b-5dca-491a-b64c-cb0298e309fa",
   "metadata": {},
   "outputs": [],
   "source": [
    "average_price = y_pred.mean()\n",
    "print(f\"🏠 The average predicted house price is: ₹\\033[1m{average_price:,.2f}\\033[0m\")\n"
   ]
  },
  {
   "cell_type": "code",
   "execution_count": null,
   "id": "ddd4dd61-1227-491b-95a5-c6817a12a457",
   "metadata": {
    "jupyter": {
     "source_hidden": true
    }
   },
   "outputs": [],
   "source": [
    "summary = pd.DataFrame({\n",
    "    \"Average Predicted Price\": [round(average_price, 2)],\n",
    "    \"RMSE\": [np.sqrt(mean_squared_error(y_test, y_pred))],\n",
    "    \"R² Score\": [r2_score(y_test, y_pred)]\n",
    "})\n",
    "display(summary)\n"
   ]
  },
  {
   "cell_type": "code",
   "execution_count": null,
   "id": "4e53dc0d-f911-44f9-87aa-f389f526f6a1",
   "metadata": {},
   "outputs": [],
   "source": []
  }
 ],
 "metadata": {
  "kernelspec": {
   "display_name": "Python 3 (ipykernel)",
   "language": "python",
   "name": "python3"
  },
  "language_info": {
   "codemirror_mode": {
    "name": "ipython",
    "version": 3
   },
   "file_extension": ".py",
   "mimetype": "text/x-python",
   "name": "python",
   "nbconvert_exporter": "python",
   "pygments_lexer": "ipython3",
   "version": "3.13.5"
  }
 },
 "nbformat": 4,
 "nbformat_minor": 5
}
