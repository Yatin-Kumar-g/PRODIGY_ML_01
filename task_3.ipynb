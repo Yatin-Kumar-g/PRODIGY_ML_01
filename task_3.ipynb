{
 "cells": [
  {
   "cell_type": "code",
   "execution_count": 1,
   "id": "33a48fb4",
   "metadata": {},
   "outputs": [],
   "source": [
    "import os\n",
    "import cv2\n",
    "import numpy as np\n",
    "from tqdm import tqdm\n",
    "from sklearn.svm import SVC\n",
    "from sklearn.metrics import accuracy_score, classification_report"
   ]
  },
  {
   "cell_type": "code",
   "execution_count": 2,
   "id": "907ef6b7",
   "metadata": {},
   "outputs": [],
   "source": [
    "IMG_SIZE = 64\n",
    "TRAIN_PATH = r'C:\\Users\\me\\Downloads\\archive\\train'\n",
    "TEST_PATH = r'C:\\Users\\me\\Downloads\\archive\\test'"
   ]
  },
  {
   "cell_type": "code",
   "execution_count": 10,
   "id": "0b71498c",
   "metadata": {},
   "outputs": [],
   "source": [
    "def load_images_from_folder_flat(folder_path, max_images_per_class=500):\n",
    "    X, y = [], []\n",
    "    dog_count = 0\n",
    "    cat_count = 0\n",
    "\n",
    "    for filename in os.listdir(folder_path):\n",
    "        if not filename.lower().endswith(('.jpg', '.jpeg', '.png')):\n",
    "            continue\n",
    "\n",
    "        img_path = os.path.join(folder_path, filename)\n",
    "\n",
    "        if 'dog' in filename.lower() and dog_count < max_images_per_class:\n",
    "            label = 1\n",
    "            dog_count += 1\n",
    "        elif 'cat' in filename.lower() and cat_count < max_images_per_class:\n",
    "            label = 0\n",
    "            cat_count += 1\n",
    "        else:\n",
    "            continue  # Skip if over limit or not a dog/cat\n",
    "\n",
    "        try:\n",
    "            img = cv2.imread(img_path)\n",
    "            if img is None:\n",
    "                continue\n",
    "            img = cv2.resize(img, (IMG_SIZE, IMG_SIZE))\n",
    "            X.append(img.flatten())\n",
    "            y.append(label)\n",
    "        except Exception as e:\n",
    "            print(f\"❌ Error reading {img_path}: {e}\")\n",
    "            continue\n",
    "\n",
    "    return np.array(X), np.array(y)\n"
   ]
  },
  {
   "cell_type": "code",
   "execution_count": 11,
   "id": "8b605016",
   "metadata": {},
   "outputs": [
    {
     "name": "stdout",
     "output_type": "stream",
     "text": [
      "✅ Training images: 1000\n",
      "✅ Test images: 400\n"
     ]
    }
   ],
   "source": [
    "X_train, y_train = load_images_from_folder_flat(TRAIN_PATH, max_images_per_class=500)\n",
    "X_test, y_test = load_images_from_folder_flat(TEST_PATH, max_images_per_class=200)\n",
    "\n",
    "print(\"✅ Training images:\", len(X_train))\n",
    "print(\"✅ Test images:\", len(X_test))"
   ]
  },
  {
   "cell_type": "code",
   "execution_count": 12,
   "id": "e8c44ae0-f5ac-4365-a946-43be27e00012",
   "metadata": {},
   "outputs": [
    {
     "name": "stdout",
     "output_type": "stream",
     "text": [
      "Class distribution in training data: Counter({np.int64(0): 500, np.int64(1): 500})\n",
      "Class distribution in test data: Counter({np.int64(0): 200, np.int64(1): 200})\n"
     ]
    }
   ],
   "source": [
    "import collections\n",
    "\n",
    "print(\"Class distribution in training data:\", collections.Counter(y_train))\n",
    "print(\"Class distribution in test data:\", collections.Counter(y_test))\n"
   ]
  },
  {
   "cell_type": "code",
   "execution_count": 22,
   "id": "cc93f22d",
   "metadata": {},
   "outputs": [
    {
     "name": "stdout",
     "output_type": "stream",
     "text": [
      "Accuracy: 0.5325\n",
      "Classification Report:               precision    recall  f1-score   support\n",
      "\n",
      "         Cat       0.53      0.58      0.56       200\n",
      "         Dog       0.54      0.48      0.51       200\n",
      "\n",
      "    accuracy                           0.53       400\n",
      "   macro avg       0.53      0.53      0.53       400\n",
      "weighted avg       0.53      0.53      0.53       400\n",
      "\n"
     ]
    }
   ],
   "source": [
    "model = SVC(kernel='linear')\n",
    "model.fit(X_train, y_train)\n",
    "y_pred = model.predict(X_test)\n",
    "print('Accuracy:', accuracy_score(y_test, y_pred))\n",
    "print('Classification Report:', classification_report(y_test, y_pred, target_names=['Cat', 'Dog']))"
   ]
  },
  {
   "cell_type": "code",
   "execution_count": 21,
   "id": "ec3871d6",
   "metadata": {},
   "outputs": [
    {
     "data": {
      "text/plain": [
       "'Cat 🐱'"
      ]
     },
     "execution_count": 21,
     "metadata": {},
     "output_type": "execute_result"
    }
   ],
   "source": [
    "def predict_single_image(image_path):\n",
    "    img = cv2.imread(image_path)\n",
    "    img = cv2.resize(img, (IMG_SIZE, IMG_SIZE)).flatten().reshape(1, -1)\n",
    "    pred = model.predict(img)\n",
    "    return 'Dog 🐶' if pred[0] == 1 else 'Cat 🐱'\n",
    "\n",
    "# Example:\n",
    "predict_single_image(r'C:\\Users\\me\\Downloads\\archive\\test\\cat.180.jpg')\n"
   ]
  },
  {
   "cell_type": "code",
   "execution_count": null,
   "id": "cae74d88-602b-474f-ac64-fd242c8189dd",
   "metadata": {},
   "outputs": [],
   "source": []
  }
 ],
 "metadata": {
  "kernelspec": {
   "display_name": "Python [conda env:base] *",
   "language": "python",
   "name": "conda-base-py"
  },
  "language_info": {
   "codemirror_mode": {
    "name": "ipython",
    "version": 3
   },
   "file_extension": ".py",
   "mimetype": "text/x-python",
   "name": "python",
   "nbconvert_exporter": "python",
   "pygments_lexer": "ipython3",
   "version": "3.13.5"
  }
 },
 "nbformat": 4,
 "nbformat_minor": 5
}
